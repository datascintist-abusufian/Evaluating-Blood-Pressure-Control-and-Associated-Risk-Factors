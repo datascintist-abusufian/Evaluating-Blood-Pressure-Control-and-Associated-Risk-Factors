{
  "nbformat": 4,
  "nbformat_minor": 0,
  "metadata": {
    "colab": {
      "provenance": []
    },
    "kernelspec": {
      "name": "python3",
      "display_name": "Python 3"
    },
    "language_info": {
      "name": "python"
    }
  },
  "cells": [
    {
      "cell_type": "code",
      "source": [
        "pip install pandas numpy openpyxl"
      ],
      "metadata": {
        "colab": {
          "base_uri": "https://localhost:8080/"
        },
        "id": "Cc7mWdoAhlFp",
        "outputId": "afcc0a10-67ea-409e-82a5-0f6245e2c9b9"
      },
      "execution_count": 1,
      "outputs": [
        {
          "output_type": "stream",
          "name": "stdout",
          "text": [
            "Requirement already satisfied: pandas in /usr/local/lib/python3.10/dist-packages (2.2.2)\n",
            "Requirement already satisfied: numpy in /usr/local/lib/python3.10/dist-packages (1.26.4)\n",
            "Requirement already satisfied: openpyxl in /usr/local/lib/python3.10/dist-packages (3.1.5)\n",
            "Requirement already satisfied: python-dateutil>=2.8.2 in /usr/local/lib/python3.10/dist-packages (from pandas) (2.8.2)\n",
            "Requirement already satisfied: pytz>=2020.1 in /usr/local/lib/python3.10/dist-packages (from pandas) (2024.2)\n",
            "Requirement already satisfied: tzdata>=2022.7 in /usr/local/lib/python3.10/dist-packages (from pandas) (2024.2)\n",
            "Requirement already satisfied: et-xmlfile in /usr/local/lib/python3.10/dist-packages (from openpyxl) (2.0.0)\n",
            "Requirement already satisfied: six>=1.5 in /usr/local/lib/python3.10/dist-packages (from python-dateutil>=2.8.2->pandas) (1.16.0)\n"
          ]
        }
      ]
    },
    {
      "cell_type": "code",
      "execution_count": 2,
      "metadata": {
        "colab": {
          "base_uri": "https://localhost:8080/"
        },
        "id": "nAEfn6Pehf6b",
        "outputId": "b65e6b8b-00ab-4623-9d8d-918efe926d8e"
      },
      "outputs": [
        {
          "output_type": "stream",
          "name": "stdout",
          "text": [
            "Dataset saved to Simulated_Hypertension_Dataset_Large.xlsx\n"
          ]
        }
      ],
      "source": [
        "import pandas as pd\n",
        "import numpy as np\n",
        "\n",
        "# Set random seed for reproducibility\n",
        "np.random.seed(42)\n",
        "\n",
        "# Number of records to simulate\n",
        "num_records = 10000\n",
        "\n",
        "# Generate demographic variables\n",
        "age = np.random.normal(loc=49.37, scale=12.81, size=num_records).clip(18, 80).astype(int)\n",
        "sex = np.random.choice([\"Male\", \"Female\"], size=num_records, p=[0.577, 0.423])\n",
        "education = np.random.choice([\"No education\", \"Primary\", \"Secondary\", \"Higher Secondary\",\n",
        "                               \"Graduate\", \"Post-Graduate\", \"Madrasa\"],\n",
        "                              size=num_records, p=[0.07, 0.35, 0.227, 0.123, 0.133, 0.09, 0.007])\n",
        "occupation = np.random.choice([\"Service\", \"Business\", \"Agriculture\", \"Retired\",\n",
        "                                \"Unemployed\", \"Housewife\"],\n",
        "                               size=num_records, p=[0.22, 0.15, 0.13, 0.07, 0.02, 0.41])\n",
        "monthly_income = np.random.choice([\"<5000\", \"5001-10000\", \"10001-15000\", \">15000\"],\n",
        "                                   size=num_records, p=[0.387, 0.32, 0.163, 0.13])\n",
        "residence = np.random.choice([\"Urban\", \"Sub-urban\", \"Rural\"], size=num_records, p=[0.4, 0.227, 0.373])\n",
        "\n",
        "# Generate clinical variables\n",
        "systolic_bp = np.random.normal(loc=140, scale=15, size=num_records).clip(100, 200).astype(int)\n",
        "diastolic_bp = np.random.normal(loc=90, scale=10, size=num_records).clip(60, 120).astype(int)\n",
        "elevated_creatinine = np.random.choice([\"Yes\", \"No\"], size=num_records, p=[0.117, 0.883])\n",
        "diabetes_mellitus = np.random.choice([\"Yes\", \"No\"], size=num_records, p=[0.083, 0.917])\n",
        "family_history_cvd = np.random.choice([\"Yes\", \"No\"], size=num_records, p=[0.792, 0.208])\n",
        "elevated_cholesterol = np.random.choice([\"Yes\", \"No\"], size=num_records, p=[0.072, 0.928])\n",
        "smoking = np.random.choice([\"Yes\", \"No\"], size=num_records, p=[0.15, 0.85])\n",
        "\n",
        "# Complications\n",
        "lvh = np.random.choice([\"Yes\", \"No\"], size=num_records, p=[0.056, 0.944])\n",
        "ihd = np.random.choice([\"Yes\", \"No\"], size=num_records, p=[0.161, 0.839])\n",
        "cvd = np.random.choice([\"Yes\", \"No\"], size=num_records, p=[0.091, 0.909])\n",
        "retinopathy = np.random.choice([\"Yes\", \"No\"], size=num_records, p=[0.027, 0.973])\n",
        "\n",
        "# Treatment and control status\n",
        "treatment = np.random.choice([\"Single Drug\", \"Combination Drugs\"], size=num_records, p=[0.257, 0.743])\n",
        "control_status = np.random.choice([\"Controlled\", \"Uncontrolled\"], size=num_records, p=[0.28, 0.72])\n",
        "\n",
        "# Combine into a DataFrame\n",
        "data_large = pd.DataFrame({\n",
        "    \"Age\": age,\n",
        "    \"Sex\": sex,\n",
        "    \"Education\": education,\n",
        "    \"Occupation\": occupation,\n",
        "    \"Monthly Income\": monthly_income,\n",
        "    \"Residence\": residence,\n",
        "    \"Systolic BP\": systolic_bp,\n",
        "    \"Diastolic BP\": diastolic_bp,\n",
        "    \"Elevated Creatinine\": elevated_creatinine,\n",
        "    \"Diabetes Mellitus\": diabetes_mellitus,\n",
        "    \"Family History of CVD\": family_history_cvd,\n",
        "    \"Elevated Cholesterol\": elevated_cholesterol,\n",
        "    \"Smoking\": smoking,\n",
        "    \"LVH\": lvh,\n",
        "    \"IHD\": ihd,\n",
        "    \"CVD\": cvd,\n",
        "    \"Retinopathy\": retinopathy,\n",
        "    \"Treatment\": treatment,\n",
        "    \"Control Status\": control_status\n",
        "})\n",
        "\n",
        "# Save to an Excel file\n",
        "file_path = \"Simulated_Hypertension_Dataset_Large.xlsx\"\n",
        "data_large.to_excel(file_path, index=False)\n",
        "\n",
        "print(f\"Dataset saved to {file_path}\")"
      ]
    },
    {
      "cell_type": "code",
      "source": [
        "import pandas as pd\n",
        "\n",
        "# Load the dataset\n",
        "file_path = \"/content/Simulated_Hypertension_Dataset_Large.xlsx\"  # Replace with your file path\n",
        "dataset = pd.read_excel(file_path)\n",
        "\n",
        "# Display the column names\n",
        "print(\"Column Names:\")\n",
        "print(dataset.columns)\n",
        "\n",
        "# Check for missing values\n",
        "missing_values = dataset.isnull().sum()\n",
        "\n",
        "# Display missing values\n",
        "print(\"\\nMissing Values in Each Column:\")\n",
        "print(missing_values)"
      ],
      "metadata": {
        "colab": {
          "base_uri": "https://localhost:8080/"
        },
        "id": "0zUJiZP2idl1",
        "outputId": "3c39a692-d4d6-4bf3-fa43-04a47ffa30f3"
      },
      "execution_count": 3,
      "outputs": [
        {
          "output_type": "stream",
          "name": "stdout",
          "text": [
            "Column Names:\n",
            "Index(['Age', 'Sex', 'Education', 'Occupation', 'Monthly Income', 'Residence',\n",
            "       'Systolic BP', 'Diastolic BP', 'Elevated Creatinine',\n",
            "       'Diabetes Mellitus', 'Family History of CVD', 'Elevated Cholesterol',\n",
            "       'Smoking', 'LVH', 'IHD', 'CVD', 'Retinopathy', 'Treatment',\n",
            "       'Control Status'],\n",
            "      dtype='object')\n",
            "\n",
            "Missing Values in Each Column:\n",
            "Age                      0\n",
            "Sex                      0\n",
            "Education                0\n",
            "Occupation               0\n",
            "Monthly Income           0\n",
            "Residence                0\n",
            "Systolic BP              0\n",
            "Diastolic BP             0\n",
            "Elevated Creatinine      0\n",
            "Diabetes Mellitus        0\n",
            "Family History of CVD    0\n",
            "Elevated Cholesterol     0\n",
            "Smoking                  0\n",
            "LVH                      0\n",
            "IHD                      0\n",
            "CVD                      0\n",
            "Retinopathy              0\n",
            "Treatment                0\n",
            "Control Status           0\n",
            "dtype: int64\n"
          ]
        }
      ]
    }
  ]
}